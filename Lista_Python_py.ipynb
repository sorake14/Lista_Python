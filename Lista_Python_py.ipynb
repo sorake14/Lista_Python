{
  "nbformat": 4,
  "nbformat_minor": 0,
  "metadata": {
    "colab": {
      "provenance": [],
      "authorship_tag": "ABX9TyP39tMp4M+0lfIuENIgxWER",
      "include_colab_link": true
    },
    "kernelspec": {
      "name": "python3",
      "display_name": "Python 3"
    },
    "language_info": {
      "name": "python"
    }
  },
  "cells": [
    {
      "cell_type": "markdown",
      "metadata": {
        "id": "view-in-github",
        "colab_type": "text"
      },
      "source": [
        "<a href=\"https://colab.research.google.com/github/sorake14/Lista_Python/blob/main/Lista_Python_py.ipynb\" target=\"_parent\"><img src=\"https://colab.research.google.com/assets/colab-badge.svg\" alt=\"Open In Colab\"/></a>"
      ]
    },
    {
      "cell_type": "code",
      "execution_count": null,
      "metadata": {
        "id": "o7RXZtgPKKGk"
      },
      "outputs": [],
      "source": [
        "# 1. Faça um CÓDIGO que mostre a mensagem \"Olá ETE PORTO DIGITAL!\" na tela.\n",
        "\n",
        "print ('Ola ETE PORTO DIGITAL!')"
      ]
    },
    {
      "cell_type": "code",
      "source": [
        "# 2. Faça um CÓDIGO que peça um número e então mostre a mensagem O número informado foi [número].\n",
        "\n",
        "numero = int(input('Insira um numero qualquer:'))\n",
        "print ('O numero informado foi: ', numero)"
      ],
      "metadata": {
        "id": "pAQ2iom7LN1p"
      },
      "execution_count": null,
      "outputs": []
    },
    {
      "cell_type": "code",
      "source": [
        "# 3. Faça um CÓDIGO que peça dois números e imprima a soma.\n",
        "\n",
        "numero = int(input('Insira o primeiro numero:'))\n",
        "numero1 = int(input('Insira o segundo numero:'))\n",
        "print (numero + numero1)"
      ],
      "metadata": {
        "id": "gubw0UseLwIx"
      },
      "execution_count": null,
      "outputs": []
    },
    {
      "cell_type": "code",
      "source": [
        "# 4. Faça um CÓDIGO que peça as 4 notas bimestrais e mostre a média final.\n",
        "\n",
        "nota1 = float(input('Insira a primeira nota:'))\n",
        "nota2 = float(input('Insira a segunda nota:'))\n",
        "nota3 = float(input('Insira a terceira nota:'))\n",
        "nota4 = float(input('Insira a quarta nota:'))\n",
        "media = float((nota1 + nota2 + nota3 + nota4) / 4)\n",
        "print ('A sua media e: ' , media)"
      ],
      "metadata": {
        "id": "z0mGW9mXMULo"
      },
      "execution_count": null,
      "outputs": []
    },
    {
      "cell_type": "code",
      "source": [
        "# 5. Faça um CÓDIGO que converta metros para centímetros.\n",
        "\n",
        "metro = float(input('Insira um valor em \"metro\":'))\n",
        "centimetro = float(metro * 100)\n",
        "print (centimetro,'cm')"
      ],
      "metadata": {
        "id": "hDdesuJYPmrX"
      },
      "execution_count": null,
      "outputs": []
    },
    {
      "cell_type": "code",
      "source": [
        "# 6. Faça um CÓDIGO que peça o raio de um círculo, calcule e mostre sua área.\n",
        "\n",
        "raio = float(input('Insira o valor do raio:'))\n",
        "area = (3.14 * (raio ** 2))\n",
        "print (area)"
      ],
      "metadata": {
        "id": "cDTriF8gRqCW"
      },
      "execution_count": null,
      "outputs": []
    },
    {
      "cell_type": "code",
      "source": [
        "# 7. Faça um CÓDIGO que calcule a área de um quadrado, em seguida mostre o dobro desta área para o usuário.\n",
        "\n",
        "lado = float(input('Insira o valor do lado do quadrado:'))\n",
        "dobroarea = (lado ** 2) * 2\n",
        "\n",
        "print ('O dobro da area do quadrado e: ' , dobroarea)"
      ],
      "metadata": {
        "id": "ZHLTwYDGUl4F"
      },
      "execution_count": null,
      "outputs": []
    },
    {
      "cell_type": "code",
      "source": [
        "# 8. Faça um CÓDIGO que pergunte quanto você ganha por hora e o número de horas trabalhadas no mês. Calcule e mostre o total do seu salário no referido mês.\n",
        "hora = float(input('Insira quanto voce ganha por hora:'))\n",
        "horatrab = float(input('Insira quantas horas voce trabalhou'))\n",
        "salario = (hora * horatrab)\n",
        "print ('Seu salario no referido mes e: ' , salario)"
      ],
      "metadata": {
        "id": "yPkZh8F-WGgc"
      },
      "execution_count": null,
      "outputs": []
    },
    {
      "cell_type": "code",
      "source": [
        "# 9. Faça um CÓDIGO que peça um valor e mostre na tela se o valor é positivo ou negativo.\n",
        "\n",
        "numero = int(input('Digite um numero:'))\n",
        "if numero >= 0:\n",
        "  print('O numero e positivo.')\n",
        "else :\n",
        "  print('O numero e negativo.')"
      ],
      "metadata": {
        "id": "h0cc8-doWx2U"
      },
      "execution_count": null,
      "outputs": []
    },
    {
      "cell_type": "code",
      "source": [
        "# 10. Faça um CÓDIGO que verifique se uma letra digitada é \"F\" ou \"M\". Conforme a letra escrever: F - Feminino, M - Masculino, Sexo Inválido.\n",
        "\n",
        "letra = str(input('Digite a letra que corresponde ao seu sexo:'))\n",
        "if letra == \"M\" or letra == \"m\":\n",
        "  print('M - Masculino')\n",
        "elif letra == \"F\" or letra == \"f\":\n",
        "  print('F - Feminino.')\n",
        "else:\n",
        "  print('Sexo Invalido')"
      ],
      "metadata": {
        "id": "yj4B898NXgqM"
      },
      "execution_count": null,
      "outputs": []
    }
  ]
}